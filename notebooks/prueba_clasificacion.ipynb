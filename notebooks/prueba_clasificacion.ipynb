{
 "cells": [
  {
   "cell_type": "code",
   "execution_count": 93,
   "id": "52bfdb73-20e5-431a-a1a3-2e6e2b048f1f",
   "metadata": {},
   "outputs": [],
   "source": [
    "import pandas as pd\n",
    "import html5lib\n",
    "import bs4"
   ]
  },
  {
   "cell_type": "code",
   "execution_count": 94,
   "id": "d9dc968f-a9e0-4a5f-8098-9f3078547a0d",
   "metadata": {},
   "outputs": [],
   "source": [
    "url = 'https://www.resultados-futbol.com/segunda2021/grupo1/jornada37'\n",
    "jornada = int(url.split('/jornada')[-1])"
   ]
  },
  {
   "cell_type": "code",
   "execution_count": 95,
   "id": "d0b94542-b663-4b20-8a33-3af8c2866346",
   "metadata": {},
   "outputs": [],
   "source": [
    "clasif = pd.read_html(url, attrs={'id': 'tabla2'})[0]"
   ]
  },
  {
   "cell_type": "code",
   "execution_count": 96,
   "id": "597deb5c-b817-4e08-95db-60685fe6107d",
   "metadata": {},
   "outputs": [],
   "source": [
    "clasif = clasif[['Equipos', 'Equipos.1', 'Puntos', 'J.', 'G.', 'E.', 'P.', 'F.', 'C.']]"
   ]
  },
  {
   "cell_type": "code",
   "execution_count": 97,
   "id": "2ef0a397-d42c-4ded-a55a-934a8885cb16",
   "metadata": {},
   "outputs": [],
   "source": [
    "\n",
    "clasif.rename(columns={'Equipos':'Posicion', 'Equipos.1':'Equipo', 'J.':'J', 'G.':'G', 'E.':'E', 'P.':'P', 'F.':'F', 'C.':'C'},inplace=True)\n"
   ]
  },
  {
   "cell_type": "code",
   "execution_count": 98,
   "id": "e1946c71-eaae-4253-8cbf-c0d71211b40a",
   "metadata": {},
   "outputs": [],
   "source": [
    "clasif['Jornada'] = jornada\n",
    "clasif.set_index(['Jornada'], inplace=True)\n"
   ]
  },
  {
   "cell_type": "code",
   "execution_count": 99,
   "id": "12bbd71f-06be-4109-8e3a-af29056176ef",
   "metadata": {},
   "outputs": [],
   "source": [
    "clasif_existente = pd.read_csv('../data/clasif.csv', index_col=0)\n",
    "if jornada in clasif_existente.index.unique():\n",
    "    clasif_existente.drop(jornada, inplace=True)\n",
    "clasif = pd.concat([clasif_existente, clasif])\n",
    "clasif.sort_values(by=['Jornada', 'Posicion'] ,inplace=True)\n",
    "clasif.to_csv('../data/clasif.csv', index=True)"
   ]
  }
 ],
 "metadata": {
  "kernelspec": {
   "display_name": "Python 3",
   "language": "python",
   "name": "python3"
  },
  "language_info": {
   "codemirror_mode": {
    "name": "ipython",
    "version": 3
   },
   "file_extension": ".py",
   "mimetype": "text/x-python",
   "name": "python",
   "nbconvert_exporter": "python",
   "pygments_lexer": "ipython3",
   "version": "3.9.5"
  }
 },
 "nbformat": 4,
 "nbformat_minor": 5
}
